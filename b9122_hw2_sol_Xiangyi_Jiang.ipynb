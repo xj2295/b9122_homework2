{
 "cells": [
  {
   "cell_type": "code",
   "execution_count": 1,
   "id": "834629fc",
   "metadata": {
    "scrolled": true
   },
   "outputs": [
    {
     "name": "stdout",
     "output_type": "stream",
     "text": [
      "List of URLs with word covid:\n",
      "https://www.federalreserve.gov/newsevents/pressreleases/2021-press.htm\n",
      "https://www.federalreserve.gov/newsevents/pressreleases/2020-press.htm\n",
      "https://www.federalreserve.gov/newsevents/pressreleases/monetary20220615a.htm\n",
      "https://www.federalreserve.gov/newsevents/pressreleases/monetary20220504a.htm\n",
      "https://www.federalreserve.gov/newsevents/pressreleases/monetary20220126a.htm\n",
      "https://www.federalreserve.gov/newsevents/pressreleases/other20220523a.htm\n",
      "https://www.federalreserve.gov/newsevents/pressreleases/enforcement20220405a.htm\n",
      "https://www.federalreserve.gov/newsevents/pressreleases/other20220225a.htm\n",
      "https://www.federalreserve.gov/newsevents/pressreleases/bcreg20220214a.htm\n",
      "https://www.federalreserve.gov/newsevents/pressreleases/other20220114a.htm\n"
     ]
    }
   ],
   "source": [
    "from bs4 import BeautifulSoup\n",
    "import urllib.request\n",
    "\n",
    "seed_url = \"https://www.federalreserve.gov/newsevents/pressreleases.htm\"\n",
    "seed = \"https://www.federalreserve.gov/newsevents/pressreleases\"\n",
    "\n",
    "urls = [seed_url] \n",
    "seen = [seed_url] \n",
    "opened = [] \n",
    "\n",
    "urlswithword = []\n",
    "word = \"covid\"\n",
    "\n",
    "maxNumUrl = 10; #set the maximum number of urls to visit\n",
    "while len(urls) > 0 and len(urlswithword) < maxNumUrl:\n",
    "    try:\n",
    "        curr_url=urls.pop(0)\n",
    "        req = urllib.request.Request(curr_url,headers={'User-Agent': 'Mozilla/5.0'})\n",
    "        webpage = urllib.request.urlopen(req).read()\n",
    "        opened.append(curr_url)\n",
    "\n",
    "    except Exception as ex:\n",
    "        print(ex)\n",
    "        continue \n",
    "\n",
    "    soup = BeautifulSoup(webpage)  #creates object soup\n",
    "    if word in soup.text.lower():\n",
    "        urlswithword.append(curr_url) \n",
    "    for tag in soup.find_all('a', href = True): #find tags with links\n",
    "        childUrl = tag['href'] #extract just the link\n",
    "        childUrl = urllib.parse.urljoin(seed_url, childUrl)\n",
    "        if seed in childUrl and childUrl not in seen:\n",
    "            urls.append(childUrl)\n",
    "            seen.append(childUrl)\n",
    "            \n",
    "\n",
    "print(\"List of URLs with word covid:\")\n",
    "for url in urlswithword:\n",
    "    print(url)"
   ]
  },
  {
   "cell_type": "code",
   "execution_count": 15,
   "id": "994c4c35",
   "metadata": {},
   "outputs": [
    {
     "ename": "AttributeError",
     "evalue": "'NoneType' object has no attribute 'text'",
     "output_type": "error",
     "traceback": [
      "\u001b[0;31m---------------------------------------------------------------------------\u001b[0m",
      "\u001b[0;31mAttributeError\u001b[0m                            Traceback (most recent call last)",
      "Input \u001b[0;32mIn [15]\u001b[0m, in \u001b[0;36m<cell line: 16>\u001b[0;34m()\u001b[0m\n\u001b[1;32m     29\u001b[0m \u001b[38;5;28;01mif\u001b[39;00m word \u001b[38;5;129;01min\u001b[39;00m soup\u001b[38;5;241m.\u001b[39mtext\u001b[38;5;241m.\u001b[39mlower():\n\u001b[1;32m     30\u001b[0m     urlswithword\u001b[38;5;241m.\u001b[39mappend(curr_url) \n\u001b[0;32m---> 31\u001b[0m     urlswithtext\u001b[38;5;241m.\u001b[39mappend(\u001b[43mitem\u001b[49m\u001b[38;5;241;43m.\u001b[39;49m\u001b[43mtext\u001b[49m)\n\u001b[1;32m     32\u001b[0m \u001b[38;5;28;01mfor\u001b[39;00m tag \u001b[38;5;129;01min\u001b[39;00m soup\u001b[38;5;241m.\u001b[39mfind_all(\u001b[38;5;124m'\u001b[39m\u001b[38;5;124ma\u001b[39m\u001b[38;5;124m'\u001b[39m, href \u001b[38;5;241m=\u001b[39m \u001b[38;5;28;01mTrue\u001b[39;00m): \u001b[38;5;66;03m#find tags with links\u001b[39;00m\n\u001b[1;32m     33\u001b[0m     childUrl \u001b[38;5;241m=\u001b[39m tag[\u001b[38;5;124m'\u001b[39m\u001b[38;5;124mhref\u001b[39m\u001b[38;5;124m'\u001b[39m] \u001b[38;5;66;03m#extract just the link\u001b[39;00m\n",
      "\u001b[0;31mAttributeError\u001b[0m: 'NoneType' object has no attribute 'text'"
     ]
    }
   ],
   "source": [
    "from bs4 import BeautifulSoup\n",
    "import urllib.request\n",
    "\n",
    "seed_url = \"https://www.sec.gov/news/pressreleases\"\n",
    "seed = \"https://www.sec.gov/news/press-release\"\n",
    "\n",
    "urls = [seed_url] \n",
    "seen = [seed_url] \n",
    "opened = [] \n",
    "\n",
    "urlswithword = []\n",
    "urlswithtext = []\n",
    "word = \"charges\"\n",
    "\n",
    "maxNumUrl = 11; #set the maximum number of urls to visit\n",
    "while len(urls) > 0 and len(urlswithword) < maxNumUrl:\n",
    "    try:\n",
    "        curr_url=urls.pop(0)\n",
    "        req = urllib.request.Request(curr_url,headers={'User-Agent': 'Mozilla/5.0'})\n",
    "        webpage = urllib.request.urlopen(req).read()\n",
    "        opened.append(curr_url)\n",
    "\n",
    "    except Exception as ex:\n",
    "        print(ex)\n",
    "        continue \n",
    "\n",
    "    soup = BeautifulSoup(webpage)  \n",
    "    item=soup.find(\"div\",{\"class\":\"article-body\"})\n",
    "    if word in soup.text.lower():\n",
    "        urlswithword.append(curr_url) \n",
    "        urlswithtext.append(item.text)\n",
    "    for tag in soup.find_all('a', href = True): #find tags with links\n",
    "        childUrl = tag['href'] #extract just the link\n",
    "        childUrl = urllib.parse.urljoin(seed_url, childUrl)\n",
    "        if seed in childUrl and childUrl not in seen:\n",
    "            urls.append(childUrl)\n",
    "            seen.append(childUrl)\n",
    "            \n",
    "\n",
    "print(\"List of URLs with word charges:\")\n",
    "for i in range(10):\n",
    "    print(urlswithword[i+1]+urlswithtext[i+1])"
   ]
  },
  {
   "cell_type": "code",
   "execution_count": null,
   "id": "b71c6d65",
   "metadata": {},
   "outputs": [],
   "source": []
  }
 ],
 "metadata": {
  "kernelspec": {
   "display_name": "Python 3 (ipykernel)",
   "language": "python",
   "name": "python3"
  },
  "language_info": {
   "codemirror_mode": {
    "name": "ipython",
    "version": 3
   },
   "file_extension": ".py",
   "mimetype": "text/x-python",
   "name": "python",
   "nbconvert_exporter": "python",
   "pygments_lexer": "ipython3",
   "version": "3.9.12"
  }
 },
 "nbformat": 4,
 "nbformat_minor": 5
}
